{
  "metadata": {
    "kernelspec": {
      "language": "python",
      "display_name": "Python 3",
      "name": "python3"
    },
    "language_info": {
      "name": "python",
      "version": "3.11.11",
      "mimetype": "text/x-python",
      "codemirror_mode": {
        "name": "ipython",
        "version": 3
      },
      "pygments_lexer": "ipython3",
      "nbconvert_exporter": "python",
      "file_extension": ".py"
    },
    "kaggle": {
      "accelerator": "nvidiaTeslaT4",
      "dataSources": [
        {
          "sourceId": 11719685,
          "sourceType": "datasetVersion",
          "datasetId": 7357000
        },
        {
          "sourceId": 12024609,
          "sourceType": "datasetVersion",
          "datasetId": 7565336
        },
        {
          "sourceId": 12024640,
          "sourceType": "datasetVersion",
          "datasetId": 7565357
        },
        {
          "sourceId": 12024674,
          "sourceType": "datasetVersion",
          "datasetId": 7565380
        },
        {
          "sourceId": 12024717,
          "sourceType": "datasetVersion",
          "datasetId": 7565410
        },
        {
          "sourceId": 12093697,
          "sourceType": "datasetVersion",
          "datasetId": 7613121
        },
        {
          "sourceId": 12093734,
          "sourceType": "datasetVersion",
          "datasetId": 7613148
        },
        {
          "sourceId": 419921,
          "sourceType": "modelInstanceVersion",
          "isSourceIdPinned": true,
          "modelInstanceId": 342305,
          "modelId": 363609
        }
      ],
      "dockerImageVersionId": 31040,
      "isInternetEnabled": true,
      "language": "python",
      "sourceType": "notebook",
      "isGpuEnabled": true
    },
    "colab": {
      "name": "TTCS Resnet50",
      "provenance": []
    }
  },
  "nbformat_minor": 0,
  "nbformat": 4,
  "cells": [
    {
      "cell_type": "code",
      "source": [
        "import os\n",
        "from pathlib import Path\n",
        "import torch\n",
        "from torch import nn\n",
        "from torch.utils.data import DataLoader\n",
        "from torchvision import datasets, transforms\n",
        "import matplotlib.pyplot as plt\n",
        "import timm\n",
        "from torchmetrics import Accuracy\n",
        "import torch.optim\n",
        "from torchvision.datasets import ImageFolder\n",
        "from tqdm.auto import tqdm\n",
        "from pathlib import Path\n",
        "from PIL import Image"
      ],
      "metadata": {
        "_uuid": "8f2839f25d086af736a60e9eeb907d3b93b6e0e5",
        "_cell_guid": "b1076dfc-b9ad-4769-8c92-a6c4dae69d19",
        "trusted": true,
        "_kg_hide-input": false,
        "execution": {
          "iopub.status.busy": "2025-06-08T03:17:54.909907Z",
          "iopub.execute_input": "2025-06-08T03:17:54.910632Z",
          "iopub.status.idle": "2025-06-08T03:17:54.91493Z",
          "shell.execute_reply.started": "2025-06-08T03:17:54.910607Z",
          "shell.execute_reply": "2025-06-08T03:17:54.914176Z"
        },
        "id": "5MPPXdwcFBbT"
      },
      "outputs": [],
      "execution_count": null
    },
    {
      "cell_type": "code",
      "source": [
        "class ResNet50Model(nn.Module):\n",
        "    def __init__(self, num_classes=196):\n",
        "        super().__init__()\n",
        "        self.backbone = timm.create_model('resnet50', pretrained=False)\n",
        "        in_features = self.backbone.get_classifier().in_features\n",
        "        self.backbone.fc = nn.Linear(in_features, num_classes)  # 'fc' là classifier của ResNet\n",
        "\n",
        "    def forward(self, x):\n",
        "        return self.backbone(x)"
      ],
      "metadata": {
        "trusted": true,
        "execution": {
          "iopub.status.busy": "2025-06-08T03:17:56.810883Z",
          "iopub.execute_input": "2025-06-08T03:17:56.811428Z",
          "iopub.status.idle": "2025-06-08T03:17:56.815807Z",
          "shell.execute_reply.started": "2025-06-08T03:17:56.811406Z",
          "shell.execute_reply": "2025-06-08T03:17:56.815072Z"
        },
        "id": "Uh0La6TQFBbV"
      },
      "outputs": [],
      "execution_count": null
    },
    {
      "cell_type": "code",
      "source": [
        "modelV0 = ResNet50Model(num_classes=196)\n",
        "modelV0.load_state_dict(torch.load('/kaggle/input/resnet50/pytorch/default/1/resnet50.pth'))"
      ],
      "metadata": {
        "trusted": true,
        "execution": {
          "iopub.status.busy": "2025-06-08T03:18:13.227333Z",
          "iopub.execute_input": "2025-06-08T03:18:13.227888Z",
          "iopub.status.idle": "2025-06-08T03:18:14.986371Z",
          "shell.execute_reply.started": "2025-06-08T03:18:13.227865Z",
          "shell.execute_reply": "2025-06-08T03:18:14.985592Z"
        },
        "id": "jrScn4uzFBbW"
      },
      "outputs": [],
      "execution_count": null
    },
    {
      "cell_type": "code",
      "source": [
        "device = \"cuda\" if torch.cuda.is_available() else \"cpu\""
      ],
      "metadata": {
        "trusted": true,
        "execution": {
          "iopub.status.busy": "2025-06-08T03:18:16.917453Z",
          "iopub.execute_input": "2025-06-08T03:18:16.917724Z",
          "iopub.status.idle": "2025-06-08T03:18:16.921497Z",
          "shell.execute_reply.started": "2025-06-08T03:18:16.917696Z",
          "shell.execute_reply": "2025-06-08T03:18:16.920752Z"
        },
        "id": "hHtZElT-FBbW"
      },
      "outputs": [],
      "execution_count": null
    },
    {
      "cell_type": "code",
      "source": [
        "accuracy_fn = Accuracy(task ='multiclass',num_classes=196).to(device)"
      ],
      "metadata": {
        "trusted": true,
        "execution": {
          "iopub.status.busy": "2025-06-08T03:18:18.213988Z",
          "iopub.execute_input": "2025-06-08T03:18:18.214259Z",
          "iopub.status.idle": "2025-06-08T03:18:18.228229Z",
          "shell.execute_reply.started": "2025-06-08T03:18:18.214223Z",
          "shell.execute_reply": "2025-06-08T03:18:18.227441Z"
        },
        "id": "otMfA6H3FBbW"
      },
      "outputs": [],
      "execution_count": null
    },
    {
      "cell_type": "code",
      "source": [
        "loss_fn = nn.CrossEntropyLoss()\n",
        "optimizer = torch.optim.Adam(modelV0.parameters(), lr=0.001)"
      ],
      "metadata": {
        "trusted": true,
        "execution": {
          "iopub.status.busy": "2025-06-08T03:18:19.851818Z",
          "iopub.execute_input": "2025-06-08T03:18:19.852194Z",
          "iopub.status.idle": "2025-06-08T03:18:19.859131Z",
          "shell.execute_reply.started": "2025-06-08T03:18:19.852165Z",
          "shell.execute_reply": "2025-06-08T03:18:19.858277Z"
        },
        "id": "wYLzv9zeFBbX"
      },
      "outputs": [],
      "execution_count": null
    },
    {
      "cell_type": "code",
      "source": [
        "train_transforms = transforms.Compose([\n",
        "    transforms.Resize(256),\n",
        "    transforms.RandomResizedCrop(224, scale=(0.7, 1.0), ratio=(0.95, 1.05)),\n",
        "    transforms.RandomHorizontalFlip(p=0.5),\n",
        "    transforms.RandomRotation(degrees=15),\n",
        "    transforms.ColorJitter(brightness=0.3, contrast=0.3, saturation=0.3, hue=0.05),\n",
        "    transforms.RandomGrayscale(p=0.05),\n",
        "    transforms.GaussianBlur(kernel_size=3, sigma=(0.1, 0.3)),\n",
        "    transforms.ToTensor(),\n",
        "    transforms.Normalize(mean=[0.485, 0.456, 0.406], std=[0.229, 0.224, 0.225]),\n",
        "    transforms.RandomErasing(p=0.2, scale=(0.02, 0.15), ratio=(0.5, 2.0))\n",
        "])\n",
        "test_transforms = transforms.Compose([\n",
        "    transforms.Resize(256),\n",
        "    transforms.CenterCrop(224),\n",
        "    transforms.ToTensor(),\n",
        "    transforms.Normalize(mean=[0.485, 0.456, 0.406],\n",
        "                         std=[0.229, 0.224, 0.225])\n",
        "])\n",
        "train_data = ImageFolder('/kaggle/input/stanford-car/dataset/train', transform=train_transforms)\n",
        "test_data = ImageFolder('/kaggle/input/stanford-car/dataset/test', transform=test_transforms)\n",
        "train_loader = DataLoader(train_data,batch_size=16,shuffle=True)\n",
        "test_loader = DataLoader(test_data,batch_size=16,shuffle=False)"
      ],
      "metadata": {
        "trusted": true,
        "execution": {
          "iopub.status.busy": "2025-06-08T03:19:08.412779Z",
          "iopub.execute_input": "2025-06-08T03:19:08.41342Z",
          "iopub.status.idle": "2025-06-08T03:19:21.204374Z",
          "shell.execute_reply.started": "2025-06-08T03:19:08.413395Z",
          "shell.execute_reply": "2025-06-08T03:19:21.203741Z"
        },
        "id": "vHCC5aBWFBbX"
      },
      "outputs": [],
      "execution_count": null
    },
    {
      "cell_type": "code",
      "source": [
        "epochs = 10\n",
        "device = 'cuda' if torch.cuda.is_available() else 'cuda'\n",
        "modelV0 = modelV0.to(device)\n",
        "train_loss_history = []\n",
        "train_acc_history = []\n",
        "val_loss_history = []\n",
        "val_acc_history = []\n",
        "for epoch in range(epochs):\n",
        "    modelV0.train()\n",
        "    train_loss,train_acc = 0,0\n",
        "    for x,y in tqdm(train_loader, desc=f\"Epoch {epoch+1}/{epochs} [Training]\"):\n",
        "        x,y = x.to(device), y.to(device)\n",
        "        y_pred = modelV0(x)\n",
        "        loss = loss_fn(y_pred,y)\n",
        "        acc = accuracy_fn(y,y_pred.argmax(dim=1))\n",
        "        train_loss += loss.item()\n",
        "        train_acc += acc.item()\n",
        "        optimizer.zero_grad()\n",
        "        loss.backward()\n",
        "        optimizer.step()\n",
        "\n",
        "    train_loss /= len(train_loader)\n",
        "    train_acc /= len(train_loader)\n",
        "\n",
        "\n",
        "    train_loss_history.append(train_loss)\n",
        "    train_acc_history.append(train_acc)\n",
        "\n",
        "    modelV0.eval()\n",
        "    val_loss, val_acc = 0,0\n",
        "    with torch.inference_mode():\n",
        "        for x,y in tqdm(test_loader, desc=f\"Epoch {epoch+1}/{epochs} [Validation]\"):\n",
        "            x,y = x.to(device), y.to(device)\n",
        "            y_pred = modelV0(x)\n",
        "            loss = loss_fn(y_pred,y)\n",
        "            acc = accuracy_fn(y,y_pred.argmax(dim=1))\n",
        "            val_loss += loss.item()\n",
        "            val_acc += acc.item()\n",
        "\n",
        "        val_loss /= len(test_loader)\n",
        "        val_acc /= len(test_loader)\n",
        "\n",
        "    val_loss_history.append(val_loss)\n",
        "    val_acc_history.append(val_acc)\n",
        "\n",
        "    print(f\"Epoch : {epoch +1} | Train Loss :{train_loss:.3f}| Train Acc :{train_acc*100:.2f}% | Val Loss :{val_loss:.3f}| Val Acc :{val_acc*100:.2f}%\")"
      ],
      "metadata": {
        "trusted": true,
        "execution": {
          "iopub.status.busy": "2025-06-01T09:36:00.194693Z",
          "iopub.execute_input": "2025-06-01T09:36:00.195174Z",
          "iopub.status.idle": "2025-06-01T10:23:18.116346Z",
          "shell.execute_reply.started": "2025-06-01T09:36:00.195149Z",
          "shell.execute_reply": "2025-06-01T10:23:18.115469Z"
        },
        "id": "5knlMqonFBbX"
      },
      "outputs": [],
      "execution_count": null
    },
    {
      "cell_type": "code",
      "source": [
        "plt.figure(figsize=(12, 5))\n",
        "\n",
        "# Plot Loss\n",
        "plt.subplot(1, 2, 1)\n",
        "plt.plot(range(1, epochs + 1), train_loss_history, label='Train Loss')\n",
        "plt.plot(range(1, epochs + 1), val_loss_history, label='Validation Loss')\n",
        "plt.title('Loss')\n",
        "plt.xlabel('Epochs')\n",
        "plt.ylabel('Loss')\n",
        "plt.legend()\n",
        "plt.grid(True)\n",
        "\n",
        "# Plot Accuracy\n",
        "plt.subplot(1, 2, 2)\n",
        "plt.plot(range(1, epochs + 1), [acc * 100 for acc in train_acc_history], label='Train Accuracy') # Scale to percentage\n",
        "plt.plot(range(1, epochs + 1), [acc * 100 for acc in val_acc_history], label='Validation Accuracy') # Scale to percentage\n",
        "plt.title('Accuracy')\n",
        "plt.xlabel('Epochs')\n",
        "plt.ylabel('Accuracy (%)')\n",
        "plt.legend()\n",
        "plt.grid(True)\n",
        "\n",
        "plt.tight_layout()\n",
        "plt.show()"
      ],
      "metadata": {
        "trusted": true,
        "execution": {
          "iopub.status.busy": "2025-06-01T10:27:30.977076Z",
          "iopub.execute_input": "2025-06-01T10:27:30.9775Z",
          "iopub.status.idle": "2025-06-01T10:27:31.386207Z",
          "shell.execute_reply.started": "2025-06-01T10:27:30.977473Z",
          "shell.execute_reply": "2025-06-01T10:27:31.385536Z"
        },
        "id": "C3cHKQG3FBbY"
      },
      "outputs": [],
      "execution_count": null
    },
    {
      "cell_type": "code",
      "source": [
        "model_path = Path('/kaggle/working/')\n",
        "model_path.mkdir(parents=True, exist_ok=True)\n",
        "\n",
        "MODEL_SAVE_PATH = model_path / 'resnet50.pth'\n",
        "torch.save(modelV0.state_dict(), MODEL_SAVE_PATH)"
      ],
      "metadata": {
        "trusted": true,
        "execution": {
          "iopub.status.busy": "2025-06-08T03:19:24.562141Z",
          "iopub.execute_input": "2025-06-08T03:19:24.562946Z",
          "iopub.status.idle": "2025-06-08T03:19:24.713715Z",
          "shell.execute_reply.started": "2025-06-08T03:19:24.562923Z",
          "shell.execute_reply": "2025-06-08T03:19:24.713111Z"
        },
        "id": "fk7F50qgFBbY"
      },
      "outputs": [],
      "execution_count": null
    },
    {
      "cell_type": "code",
      "source": [
        "class_name = train_data.classes\n",
        "class_name"
      ],
      "metadata": {
        "trusted": true,
        "execution": {
          "iopub.status.busy": "2025-06-08T03:19:26.617464Z",
          "iopub.execute_input": "2025-06-08T03:19:26.618117Z",
          "iopub.status.idle": "2025-06-08T03:19:26.626212Z",
          "shell.execute_reply.started": "2025-06-08T03:19:26.618084Z",
          "shell.execute_reply": "2025-06-08T03:19:26.625513Z"
        },
        "id": "Q95Q2rOmFBbY"
      },
      "outputs": [],
      "execution_count": null
    },
    {
      "cell_type": "code",
      "source": [
        "modelV0=modelV0.to(device)\n",
        "x = Image.open('/kaggle/input/bugatti-veyron-16-4-coupe-2009/2009_bugatti_veyron-164_coupe_base_fq_oem_3_1600x1067.jpg')\n",
        "x = test_transforms(x).to(device)\n",
        "x = x.unsqueeze(dim = 0)\n",
        "class_name[modelV0(x).argmax(dim = 1).item()]"
      ],
      "metadata": {
        "trusted": true,
        "execution": {
          "iopub.status.busy": "2025-06-08T03:19:31.68771Z",
          "iopub.execute_input": "2025-06-08T03:19:31.687988Z",
          "iopub.status.idle": "2025-06-08T03:19:32.443901Z",
          "shell.execute_reply.started": "2025-06-08T03:19:31.687968Z",
          "shell.execute_reply": "2025-06-08T03:19:32.4433Z"
        },
        "id": "NzJBCr3aFBbY"
      },
      "outputs": [],
      "execution_count": null
    },
    {
      "cell_type": "code",
      "source": [
        "from PIL import Image\n",
        "modelV0=modelV0.to(device)\n",
        "modelV0.eval()\n",
        "with torch.inference_mode():\n",
        "    x = Image.open('/kaggle/input/lamborghini-gallardo-lp-570-4-superleggera-2012/Used-2012-Lamborghini-Gallardo-LP-570-4-Superleggera-RARE-Grigio-Telesto-Paint--Front-Lift-Reverse-Cam-1697233534.jpg')\n",
        "    x_transformed = test_transforms(x).to(device)\n",
        "    x_input = x_transformed.unsqueeze(dim=0)\n",
        "\n",
        "    outputs = modelV0(x_input) # Logits thô\n",
        "    probabilities = torch.softmax(outputs, dim=1)\n",
        "\n",
        "    predicted_idx = outputs.argmax(dim=1).item()\n",
        "    predicted_label = class_name[predicted_idx]\n",
        "    confidence = probabilities[0, predicted_idx].item()\n",
        "\n",
        "    print(f\"Predicted Index: {predicted_idx}\")\n",
        "    print(f\"Predicted Label: {predicted_label}\")\n",
        "    print(f\"Confidence: {confidence*100:.2f}%\")\n",
        "\n",
        "    # In ra top 5 dự đoán\n",
        "    top5_prob, top5_indices = torch.topk(probabilities, 5)\n",
        "    print(\"\\nTop 5 Predictions:\")\n",
        "    for i in range(top5_prob.size(1)):\n",
        "        class_label = class_name[top5_indices[0, i].item()]\n",
        "        class_prob = top5_prob[0, i].item()\n",
        "        print(f\"{i+1}.{class_label}:{class_prob*100:.2f}%\")"
      ],
      "metadata": {
        "trusted": true,
        "execution": {
          "iopub.status.busy": "2025-06-08T03:19:34.846237Z",
          "iopub.execute_input": "2025-06-08T03:19:34.847056Z",
          "iopub.status.idle": "2025-06-08T03:19:35.018709Z",
          "shell.execute_reply.started": "2025-06-08T03:19:34.847019Z",
          "shell.execute_reply": "2025-06-08T03:19:35.018087Z"
        },
        "id": "TpK5uPWNFBbY"
      },
      "outputs": [],
      "execution_count": null
    },
    {
      "cell_type": "code",
      "source": [
        "from PIL import Image\n",
        "import torch\n",
        "\n",
        "modelV0.to(device)\n",
        "modelV0.eval()\n",
        "\n",
        "CONFIDENCE_THRESHOLD = 0.7\n",
        "\n",
        "with torch.inference_mode():\n",
        "    img_path = '/kaggle/input/xe-my-honda-vision/vision-khung-dap-han-laser-eSAF.jpg'\n",
        "    try:\n",
        "        x_pil = Image.open(img_path)\n",
        "    except FileNotFoundError:\n",
        "        print(f\"Lỗi: Không tìm thấy tệp hình ảnh tại đường dẫn: {img_path}\")\n",
        "        exit()\n",
        "    except Exception as e:\n",
        "        print(f\"Lỗi khi mở hình ảnh: {e}\")\n",
        "        exit()\n",
        "\n",
        "    x_transformed = test_transforms(x_pil).to(device)\n",
        "    x_input = x_transformed.unsqueeze(dim=0)\n",
        "\n",
        "    outputs = modelV0(x_input)\n",
        "    probabilities = torch.softmax(outputs, dim=1)\n",
        "\n",
        "    confidence_value, predicted_idx_tensor = torch.max(probabilities, dim=1)\n",
        "    predicted_idx = predicted_idx_tensor.item()\n",
        "    confidence = confidence_value.item()\n",
        "\n",
        "    if confidence >= CONFIDENCE_THRESHOLD:\n",
        "        predicted_label = class_name[predicted_idx]\n",
        "        print(f\"Predicted Index: {predicted_idx}\")\n",
        "        print(f\"Predicted Label: {predicted_label}\")\n",
        "        print(f\"Confidence: {confidence*100:.2f}%\")\n",
        "\n",
        "        top5_prob, top5_indices = torch.topk(probabilities, 5)\n",
        "        print(\"\\nTop 5 Predictions:\")\n",
        "        for i in range(top5_prob.size(1)):\n",
        "            class_label_top_k = class_name[top5_indices[0, i].item()]\n",
        "            class_prob_top_k = top5_prob[0, i].item()\n",
        "            print(f\"  {i+1}. {class_label_top_k}: {class_prob_top_k*100:.2f}%\")\n",
        "    else:\n",
        "        print(\"Predicted Label: Undefined (Confidence below threshold)\")\n",
        "        print(f\"Highest Confidence Found: {confidence*100:.2f}% (for class: {class_name[predicted_idx]})\")\n",
        "\n",
        "        # Tùy chọn: Vẫn hiển thị top 5 ngay cả khi dưới ngưỡng để debug\n",
        "        top5_prob, top5_indices = torch.topk(probabilities, 5)\n",
        "        print(\"\\nTop 5 Predictions (even if below threshold):\")\n",
        "        for i in range(top5_prob.size(1)):\n",
        "            class_label_top_k = class_name[top5_indices[0, i].item()]\n",
        "            class_prob_top_k = top5_prob[0, i].item()\n",
        "            print(f\"  {i+1}. {class_label_top_k}: {class_prob_top_k*100:.2f}%\")"
      ],
      "metadata": {
        "trusted": true,
        "execution": {
          "iopub.status.busy": "2025-06-08T03:29:21.213776Z",
          "iopub.execute_input": "2025-06-08T03:29:21.2146Z",
          "iopub.status.idle": "2025-06-08T03:29:21.255991Z",
          "shell.execute_reply.started": "2025-06-08T03:29:21.214573Z",
          "shell.execute_reply": "2025-06-08T03:29:21.25528Z"
        },
        "id": "EI_M8809FBbY"
      },
      "outputs": [],
      "execution_count": null
    }
  ]
}